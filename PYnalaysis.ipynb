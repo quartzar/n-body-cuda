{
 "cells": [
  {
   "cell_type": "code",
   "execution_count": 656,
   "metadata": {},
   "outputs": [],
   "source": [
    "# import numpy as np\n",
    "# import pandas as pd\n",
    "# df = pd.read_csv('cmake-build-debug/outputCSV.csv', header=[0,1])\n",
    "# plt.plot(0, 0, marker = 'o', markersize=20, color=\"black\")\n",
    "# plt.xlim(-1.1, 1.1)\n",
    "# plt.ylim(-1.1, 1.1)"
   ]
  },
  {
   "cell_type": "code",
   "execution_count": 657,
   "metadata": {},
   "outputs": [],
   "source": [
    "from scipy.optimize import curve_fit\n",
    "import mpl_toolkits.mplot3d\n",
    "import matplotlib.pyplot as plt\n",
    "import numpy as np\n",
    "import pandas as pd\n",
    "\n",
    "%matplotlib inline\n",
    "\n",
    "\n",
    "df = pd.read_csv('cmake-build-debug/outputCSV.csv', header=[0,1])\n",
    "idx = pd.IndexSlice\n",
    "\n",
    "def doPlot2D(x, y, width, height, colour, replot: bool):\n",
    "\n",
    "    \n",
    "    # plt.style.use('seaborn-v0_8-deep')\n",
    "\n",
    "    fig, ax = plt.subplots()\n",
    "    fig.set_size_inches(width, height)\n",
    "\n",
    "    plt.plot(x, y, alpha=0.7, color=colour)\n",
    "\n",
    "    # ax.set_xlim(xlim[0], xlim[1])\n",
    "    # ax.set_ylim(ylim[0], ylim[1])\n",
    "\n",
    "    # plt.title(f\"T = {df.Iteration.iat[-1]}\")\n",
    "    plt.grid(alpha=0.3)\n",
    "\n",
    "# https://jakevdp.github.io/PythonDataScienceHandbook/04.12-three-dimensional-plotting.html\n",
    "def doPlot3D(x, y, z):\n",
    " \n",
    "    # plt.style.use('seaborn-v0_8-deep')\n",
    "\n",
    "    fig = plt.figure()\n",
    "    ax = plt.axes(projection='3d')\n",
    "\n",
    "    ax.scatter3D(0, 0, 0, s=50, c=\"black\")\n",
    "    ax.plot3D(x, y, z, c=\"green\")"
   ]
  },
  {
   "cell_type": "markdown",
   "metadata": {},
   "source": [
    "#### Simple 2D x,y position"
   ]
  },
  {
   "cell_type": "code",
   "execution_count": 658,
   "metadata": {},
   "outputs": [
    {
     "name": "stdout",
     "output_type": "stream",
     "text": [
      "(10000001, 30)\n"
     ]
    },
    {
     "data": {
      "image/png": "[encoded data removed]",
      "text/plain": [
       "<Figure size 360x360 with 1 Axes>"
      ]
     },
     "metadata": {
      "needs_background": "light"
     },
     "output_type": "display_data"
    }
   ],
   "source": [
    "fig, ax = plt.subplots()\n",
    "# fig.set_size_inches(10, 10)\n",
    "fig.set_size_inches(5,5)\n",
    "# plt.plot(0, 0, marker = 'o', markersize=5, color=\"black\") # sun plot\n",
    "# plt.xlim(-5, 5)\n",
    "# plt.ylim(-5, 5)\n",
    "\n",
    "for i in range(0, int(df.shape[1]/10)):\n",
    "    x = df[f'{i}']['x']\n",
    "    y = df[f'{i}']['y']\n",
    "\n",
    "    plt.plot(x, y, alpha=0.7)\n",
    "\n",
    "plt.grid(alpha=0.3)\n",
    "plt.xlabel(\"x position $[AU]$\")\n",
    "plt.ylabel(\"y position $[AU]$\")\n",
    "plt.title(f\"T = {df.shape[0]-1}\")\n",
    "\n",
    "print(df.shape)"
   ]
  },
  {
   "cell_type": "code",
   "execution_count": 659,
   "metadata": {},
   "outputs": [],
   "source": [
    "## New Method\n",
    "x = df.loc[:,idx[:,'x']]\n",
    "y = df.loc[:,idx[:,'y']]\n",
    "z = df.loc[:,idx[:,'z']]\n",
    "\n",
    "fx = df.loc[:,idx[:,'fx']]\n",
    "fy = df.loc[:,idx[:,'fy']]\n",
    "fz = df.loc[:,idx[:,'fz']]\n",
    "\n",
    "vx = df.loc[:,idx[:,'vx']]\n",
    "vy = df.loc[:,idx[:,'vy']]\n",
    "vz = df.loc[:,idx[:,'vz']]\n",
    "\n",
    "## Old Method\n",
    "mass = df[f'{i}']['M']\n",
    "x = df[f'{i}']['x']\n",
    "y = df[f'{i}']['y']\n",
    "z = df[f'{i}']['z']\n",
    "vx = df[f'{i}']['vx']\n",
    "vy = df[f'{i}']['vy']\n",
    "vz = df[f'{i}']['vz']\n",
    "fx = df[f'{i}']['fx']\n",
    "fy = df[f'{i}']['fy']\n",
    "fz = df[f'{i}']['fz']"
   ]
  },
  {
   "cell_type": "markdown",
   "metadata": {},
   "source": [
    "## **Energy of System**\n",
    "\n",
    "**Gravitational Potential Energy**\n",
    "\n",
    "because of the way the forces are calculated, each pair-wise force appears twice.\n",
    "to account for this, forces must be halved =>\n",
    "\n",
    "**GPE** -> force * 0.5\n",
    "\n",
    "**Kinetic Energy**\n",
    "\n",
    "**KE** = 1/2 * mass * velocity^2"
   ]
  },
  {
   "cell_type": "code",
   "execution_count": 660,
   "metadata": {},
   "outputs": [],
   "source": [
    "# USE THIS INSTEAD OF FOR LOOPS, MUCH MUCH FASTER\n",
    "# idx = pd.IndexSlice ->> moved to top level\n",
    "test3 = df.loc[:,idx[:,'fx']]\n",
    "test4 = df.cumsum(axis=0)['0']['fx']"
   ]
  },
  {
   "cell_type": "markdown",
   "metadata": {},
   "source": [
    "##### Calculating $E_{p, 0}$         [*initial total gravitational potential energy*]"
   ]
  },
  {
   "cell_type": "code",
   "execution_count": 661,
   "metadata": {},
   "outputs": [
    {
     "name": "stdout",
     "output_type": "stream",
     "text": [
      "-0.00043111236281500004\n"
     ]
    }
   ],
   "source": [
    "# GPE => F_total * 0.5\n",
    "# this loops through all bodies to calculate GPE_0 for system\n",
    "gravPotEnergy0 = 0.0;\n",
    "for i in range(0, int(df.shape[1]/10)):\n",
    "    fx = df[f'{i}']['fx'][0]\n",
    "    fy = df[f'{i}']['fy'][0]\n",
    "    fz = df[f'{i}']['fz'][0]\n",
    "\n",
    "    gravPotEnergy0 += 0.5 * (fx + fy + fz)\n",
    "print(gravPotEnergy0)"
   ]
  },
  {
   "cell_type": "markdown",
   "metadata": {},
   "source": [
    "##### Calculating $E_{k, 0}$         [*initial total kinetic energy*]"
   ]
  },
  {
   "cell_type": "code",
   "execution_count": 662,
   "metadata": {},
   "outputs": [
    {
     "name": "stdout",
     "output_type": "stream",
     "text": [
      "0.0028319840374660004\n"
     ]
    }
   ],
   "source": [
    "# KE => 0.5 * mass * velocity^2\n",
    "# this loops through all bodies to calculate KE_0 for system\n",
    "kineticEnergy0 = 0.0;\n",
    "for i in range(0, int(df.shape[1]/10)):\n",
    "    vx   = df[f'{i}']['vx'][0]\n",
    "    vy   = df[f'{i}']['vy'][0]\n",
    "    vz   = df[f'{i}']['vz'][0]\n",
    "    mass = df[f'{i}']['M' ][0]\n",
    "\n",
    "    velocity = np.sqrt(vx**2 + vy**2 + vz**2)\n",
    "\n",
    "    kineticEnergy0 += 0.5 * mass * velocity**2\n",
    "print(kineticEnergy0)"
   ]
  },
  {
   "cell_type": "markdown",
   "metadata": {},
   "source": [
    "##### Calculating $E_{total, 0}$         [*initial total energy*]"
   ]
  },
  {
   "cell_type": "code",
   "execution_count": 663,
   "metadata": {},
   "outputs": [
    {
     "name": "stdout",
     "output_type": "stream",
     "text": [
      "0.0024008716746510006\n"
     ]
    }
   ],
   "source": [
    "# Units are as follows:\n",
    "# GPE ->> AU/days^2\n",
    "# KE  ->> ( Solar Masses * AU^2 ) / days^2\n",
    "totalE0 = gravPotEnergy0 + kineticEnergy0\n",
    "print(totalE0)"
   ]
  },
  {
   "cell_type": "markdown",
   "metadata": {},
   "source": [
    "##### Plotting $E_{total}$ percentage difference over time    "
   ]
  },
  {
   "cell_type": "code",
   "execution_count": 664,
   "metadata": {},
   "outputs": [],
   "source": [
    "# Pandas is painful\n",
    "x = df.loc[:,idx[:,'x']]\n",
    "y = df.loc[:,idx[:,'y']]\n",
    "z = df.loc[:,idx[:,'z']]\n",
    "\n",
    "fx = df.loc[:,idx[:,'fx']]\n",
    "fy = df.loc[:,idx[:,'fy']]\n",
    "fz = df.loc[:,idx[:,'fz']]\n",
    "\n",
    "vx = df.loc[:,idx[:,'vx']]\n",
    "vy = df.loc[:,idx[:,'vy']]\n",
    "vz = df.loc[:,idx[:,'vz']]\n",
    "\n",
    "mass = df.loc[:,idx[:,'M']]\n",
    "mass = mass.groupby(level=0, axis=1).sum()\n",
    "\n",
    "fx_sum = fx.cumsum(axis=1)\n",
    "fy_sum = fy.cumsum(axis=1)\n",
    "fz_sum = fz.cumsum(axis=1)\n",
    "\n",
    "f_sum = fx_sum.iloc[:,-1] + fy_sum.iloc[:,-1] + fz_sum.iloc[:,-1]\n",
    "\n",
    "vxSq = vx**2\n",
    "vySq = vy**2\n",
    "vzSq = vz**2\n",
    "\n",
    "vxSq, vySq = vxSq.align(vySq, fill_value=0)\n",
    "vxSq, vzSq = vxSq.align(vzSq, fill_value=0)\n",
    "vxSq, vySq = vxSq.align(vySq, fill_value=0)\n",
    "\n",
    "vSqr = vxSq + vySq + vzSq\n",
    "vSqr = vSqr.groupby(level=0, axis=1).sum()\n",
    "\n",
    "dfKE = 0.5 * mass * vSqr\n",
    "\n",
    "kineticEnergy = dfKE.cumsum(axis=1).iloc[:,-1]\n",
    "gravPotEnergy = 0.5 * (f_sum)\n",
    "totalEnergy   = kineticEnergy + gravPotEnergy \n",
    "\n",
    "# print(totalEnergy)\n",
    "# print(gravPotEnergy)\n",
    "# print(kineticEnergy)"
   ]
  },
  {
   "cell_type": "code",
   "execution_count": 673,
   "metadata": {},
   "outputs": [
    {
     "name": "stdout",
     "output_type": "stream",
     "text": [
      "y = -0.00000x + 0.18126\n"
     ]
    },
    {
     "name": "stderr",
     "output_type": "stream",
     "text": [
      "/home/quartzar/.local/lib/python3.10/site-packages/IPython/core/pylabtools.py:151: UserWarning: Creating legend with loc=\"best\" can be slow with large amounts of data.\n",
      "  fig.canvas.print_figure(bytes_io, **kw)\n"
     ]
    },
    {
     "data": {
      "image/png": "[encoded data removed]",
      "text/plain": [
       "<Figure size 1080x720 with 1 Axes>"
      ]
     },
     "metadata": {
      "needs_background": "light"
     },
     "output_type": "display_data"
    },
    {
     "name": "stdout",
     "output_type": "stream",
     "text": [
      "0.0\n",
      "0.0024008716746510006\n",
      "75.48135883057371\n"
     ]
    }
   ],
   "source": [
    "# Create plot environment\n",
    "plt.style.use('bmh')\n",
    "fig, ax = plt.subplots()\n",
    "fig.set_size_inches(15, 10)\n",
    "\n",
    "# Variable setting\n",
    "iterations = np.arange(0, df.shape[0]);\n",
    "\n",
    "x = iterations\n",
    "y = ((totalEnergy - totalEnergy[0]) / totalEnergy[0]) \n",
    "\n",
    "# Plot graph\n",
    "plt.plot(x, y, color=\"black\", label=\"$E_{total}$ change\");\n",
    "plt.title(\"Total Energy Percentage Change\")\n",
    "plt.xlabel(\"Iteration\");\n",
    "plt.ylabel(\"Total Energy / Initial Total Energy\")\n",
    "\n",
    "\n",
    "# Curve fit objective function\n",
    "def func(x, a, b):\n",
    "    return a * x + b\n",
    "\n",
    "# Curve fit\n",
    "popt, cov = curve_fit(func, x, y)\n",
    "\n",
    "# Summarise parameter values\n",
    "a, b = popt\n",
    "print('y = %.5fx + %.5f' % (a, b))\n",
    "\n",
    "# Calculate output for range\n",
    "y_line = func(x, a, b)\n",
    "\n",
    "# Plot curve fit line\n",
    "plt.plot(x, y_line, linestyle='--', label=\"Curve Fit\")\n",
    "\n",
    "plt.legend()\n",
    "plt.show()\n",
    "\n",
    "print(y[0])\n",
    "print(totalEnergy[0])\n",
    "print((y.sum())/(totalEnergy[0] * df.shape[0]))"
   ]
  },
  {
   "cell_type": "code",
   "execution_count": 674,
   "metadata": {},
   "outputs": [
    {
     "name": "stdout",
     "output_type": "stream",
     "text": [
      "-7.70720847311651e-12\n"
     ]
    }
   ],
   "source": [
    "print(a)"
   ]
  },
  {
   "cell_type": "code",
   "execution_count": 666,
   "metadata": {},
   "outputs": [
    {
     "name": "stdout",
     "output_type": "stream",
     "text": [
      "0          -0.000862\n",
      "1          -0.000862\n",
      "2          -0.000864\n",
      "3          -0.000866\n",
      "4          -0.000868\n",
      "              ...   \n",
      "9999996     0.000426\n",
      "9999997     0.000423\n",
      "9999998     0.000421\n",
      "9999999     0.000418\n",
      "10000000    0.000416\n",
      "Length: 10000001, dtype: float64\n"
     ]
    }
   ],
   "source": [
    "# test = df.set_index('fx').cumsum(axis=1)\n",
    "# print (test)\n",
    "orb = 1\n",
    "\n",
    "# test = df[f'{orb}']['fx']\n",
    "# print(test)\n",
    "\n",
    "# test2 = df.groupby(['fx'])\n",
    "# print(test2)\n",
    "\n",
    "# print (df.iloc[:, df.columns.get_level_values(1)=='fx'])\n",
    "\n",
    "x = df.loc[:,idx[:,'x']]\n",
    "y = df.loc[:,idx[:,'y']]\n",
    "z = df.loc[:,idx[:,'z']]\n",
    "\n",
    "fx = df.loc[:,idx[:,'fx']]\n",
    "fy = df.loc[:,idx[:,'fy']]\n",
    "fz = df.loc[:,idx[:,'fz']]\n",
    "\n",
    "vx = df.loc[:,idx[:,'vx']]\n",
    "vy = df.loc[:,idx[:,'vy']]\n",
    "vz = df.loc[:,idx[:,'vz']]\n",
    "\n",
    "# print(vx.cumsum(axis=1)) # use this to get cumulative sum over a row\n",
    "\n",
    "fx_sum = fx.cumsum(axis=1)\n",
    "fy_sum = fy.cumsum(axis=1)\n",
    "fz_sum = fz.cumsum(axis=1)\n",
    "\n",
    "f_sum = fx_sum.iloc[:,-1] + fy_sum.iloc[:,-1] + fz_sum.iloc[:,-1]\n",
    "\n",
    "\n",
    "\n",
    "# print(fx_sum.iloc[:,-1])\n",
    "# print(fy_sum.iloc[:,-1])\n",
    "print(f_sum)"
   ]
  },
  {
   "cell_type": "code",
   "execution_count": 667,
   "metadata": {},
   "outputs": [],
   "source": [
    "\n",
    "\n",
    "# fx = df[f'{orb}']['fx'][step]\n",
    "# fy = df[f'{orb}']['fy'][step]\n",
    "# fz = df[f'{orb}']['fz'][step]\n",
    "\n",
    "# gravPotEnergy += 0.5 * (fx + fy + fz)\n",
    "\n",
    "# # Kinetic Energy\n",
    "# vx   = df[f'{orb}']['vx'][step]\n",
    "# vy   = df[f'{orb}']['vy'][step]\n",
    "# vz   = df[f'{orb}']['vz'][step]\n",
    "# mass = df[f'{orb}']['M' ][0]\n",
    "\n",
    "# velocitySqr = vx**2 + vy**2 + vz**2\n",
    "\n",
    "# kineticEnergy += 0.5 * mass * velocitySqr #**2\n"
   ]
  },
  {
   "cell_type": "code",
   "execution_count": 668,
   "metadata": {},
   "outputs": [
    {
     "data": {
      "image/png": "[encoded data removed]",
      "text/plain": [
       "<Figure size 360x360 with 1 Axes>"
      ]
     },
     "metadata": {
      "needs_background": "light"
     },
     "output_type": "display_data"
    }
   ],
   "source": [
    "fig, ax = plt.subplots()\n",
    "fig.set_size_inches(5, 5)\n",
    "plt.plot(0, 0, marker = 'o', markersize=5, color=\"black\")\n",
    "for i in range(0, int(df.shape[1]/10)):\n",
    "    x = df[f'{i}']['fx']\n",
    "    y = df[f'{i}']['fy']\n",
    "\n",
    "    plt.plot(x, y, alpha=0.7)\n",
    "    plt.grid(alpha=0.3)\n",
    "# x = df[f'{1}']['fx']\n",
    "# y = df[f'{1}']['fy']\n",
    "plt.plot(x, y, alpha=0.7)\n",
    "plt.grid(alpha=0.3)"
   ]
  },
  {
   "cell_type": "code",
   "execution_count": 669,
   "metadata": {},
   "outputs": [
    {
     "name": "stdout",
     "output_type": "stream",
     "text": [
      "2\n",
      "3\n",
      "5.0\n"
     ]
    }
   ],
   "source": [
    "print(len(df.columns[0]))\n",
    "print(len(df.columns[3]) + 1)\n",
    "print(df.shape[1]/6)"
   ]
  },
  {
   "cell_type": "code",
   "execution_count": 670,
   "metadata": {},
   "outputs": [
    {
     "data": {
      "image/png": "[encoded data removed]",
      "text/plain": [
       "<Figure size 432x288 with 1 Axes>"
      ]
     },
     "metadata": {
      "needs_background": "light"
     },
     "output_type": "display_data"
    }
   ],
   "source": [
    "fig = plt.figure()\n",
    "ax = plt.axes(projection='3d')\n",
    "\n",
    "# plt.xlim(-100, 100)\n",
    "# plt.ylim(-100, 100)\n",
    "# plt.zlim(-100, 100)\n",
    "# ax.set_xlim(-10, 10)\n",
    "# ax.set_ylim(-10, 10)\n",
    "# ax.set_zlim(-10, 10)\n",
    "\n",
    "for i in range(0, int(df.shape[1]/9)):\n",
    "    x = df[f'{i}']['x']\n",
    "    y = df[f'{i}']['y']\n",
    "    z = df[f'{i}']['z']\n",
    "\n",
    "\n",
    "    # ax.scatter3D(0, 0, 0, s=50, c=\"black\")\n",
    "    ax.plot3D(x, y, z)"
   ]
  },
  {
   "cell_type": "code",
   "execution_count": 671,
   "metadata": {},
   "outputs": [
    {
     "ename": "AttributeError",
     "evalue": "'DataFrame' object has no attribute 'xVel'",
     "output_type": "error",
     "traceback": [
      "\u001b[0;31m---------------------------------------------------------------------------\u001b[0m",
      "\u001b[0;31mAttributeError\u001b[0m                            Traceback (most recent call last)",
      "\u001b[1;32m/home/quartzar/Documents/repos/n-body-cuda/PYnalaysis.ipynb Cell 22\u001b[0m in \u001b[0;36m<cell line: 1>\u001b[0;34m()\u001b[0m\n\u001b[0;32m----> <a href='vscode-notebook-cell:/home/quartzar/Documents/repos/n-body-cuda/PYnalaysis.ipynb#X12sZmlsZQ%3D%3D?line=0'>1</a>\u001b[0m doPlot3D(df\u001b[39m.\u001b[39;49mxVel, df\u001b[39m.\u001b[39myVel, df\u001b[39m.\u001b[39mIteration)\n",
      "File \u001b[0;32m~/.local/lib/python3.10/site-packages/pandas/core/generic.py:5907\u001b[0m, in \u001b[0;36mNDFrame.__getattr__\u001b[0;34m(self, name)\u001b[0m\n\u001b[1;32m   5900\u001b[0m \u001b[39mif\u001b[39;00m (\n\u001b[1;32m   5901\u001b[0m     name \u001b[39mnot\u001b[39;00m \u001b[39min\u001b[39;00m \u001b[39mself\u001b[39m\u001b[39m.\u001b[39m_internal_names_set\n\u001b[1;32m   5902\u001b[0m     \u001b[39mand\u001b[39;00m name \u001b[39mnot\u001b[39;00m \u001b[39min\u001b[39;00m \u001b[39mself\u001b[39m\u001b[39m.\u001b[39m_metadata\n\u001b[1;32m   5903\u001b[0m     \u001b[39mand\u001b[39;00m name \u001b[39mnot\u001b[39;00m \u001b[39min\u001b[39;00m \u001b[39mself\u001b[39m\u001b[39m.\u001b[39m_accessors\n\u001b[1;32m   5904\u001b[0m     \u001b[39mand\u001b[39;00m \u001b[39mself\u001b[39m\u001b[39m.\u001b[39m_info_axis\u001b[39m.\u001b[39m_can_hold_identifiers_and_holds_name(name)\n\u001b[1;32m   5905\u001b[0m ):\n\u001b[1;32m   5906\u001b[0m     \u001b[39mreturn\u001b[39;00m \u001b[39mself\u001b[39m[name]\n\u001b[0;32m-> 5907\u001b[0m \u001b[39mreturn\u001b[39;00m \u001b[39mobject\u001b[39;49m\u001b[39m.\u001b[39;49m\u001b[39m__getattribute__\u001b[39;49m(\u001b[39mself\u001b[39;49m, name)\n",
      "\u001b[0;31mAttributeError\u001b[0m: 'DataFrame' object has no attribute 'xVel'"
     ]
    }
   ],
   "source": [
    "doPlot3D(df.xVel, df.yVel, df.Iteration)"
   ]
  },
  {
   "cell_type": "markdown",
   "metadata": {},
   "source": [
    "#### **X position vs Y position**\n",
    "*for all timesteps*"
   ]
  },
  {
   "cell_type": "code",
   "execution_count": null,
   "metadata": {},
   "outputs": [],
   "source": [
    "doPlot2D(df.xPos, df.yPos, 10, 10, colour='black', replot=False)\n",
    "plt.plot(0, 0, marker = 'o', markersize=20, color=\"black\")\n",
    "plt.xlabel(\"$x$ Position [$AU$]\")\n",
    "plt.ylabel(\"$y$ Position [$AU$]\")\n",
    "# plt.savefig('graphs/x-vs-y_pos_ts_1_1M-steps-wvenus.png', dpi='figure')"
   ]
  },
  {
   "cell_type": "markdown",
   "metadata": {},
   "source": [
    "#### **Velocity vs Time Step**"
   ]
  },
  {
   "cell_type": "code",
   "execution_count": null,
   "metadata": {},
   "outputs": [],
   "source": [
    "doPlot2D(df.T_S, df.xVel, 20, 10, True)"
   ]
  },
  {
   "cell_type": "markdown",
   "metadata": {},
   "source": [
    "# **ARCHIVE**"
   ]
  },
  {
   "cell_type": "code",
   "execution_count": null,
   "metadata": {},
   "outputs": [],
   "source": [
    "# Iterate through all timesteps\n",
    "for step in range(0, df.shape[0]-1):\n",
    "    # Reset energies\n",
    "    gravPotEnergy = 0.0\n",
    "    kineticEnergy = 0.0\n",
    "    \n",
    "    # Iterate through all bodies\n",
    "    for orb in range(0, int(df.shape[1]/10)):\n",
    "        # Gravitational Potential Energy\n",
    "        fx = df[f'{orb}']['fx'][step]\n",
    "        fy = df[f'{orb}']['fy'][step]\n",
    "        fz = df[f'{orb}']['fz'][step]\n",
    "\n",
    "        gravPotEnergy += 0.5 * (fx + fy + fz)\n",
    "\n",
    "        # Kinetic Energy\n",
    "        vx   = df[f'{orb}']['vx'][step]\n",
    "        vy   = df[f'{orb}']['vy'][step]\n",
    "        vz   = df[f'{orb}']['vz'][step]\n",
    "        mass = df[f'{orb}']['M' ][0]\n",
    "        \n",
    "        velocitySqr = vx**2 + vy**2 + vz**2\n",
    "\n",
    "        kineticEnergy += 0.5 * mass * velocitySqr #**2\n",
    "\n",
    "    # Calculate Total Energy\n",
    "    totalEnergy[step] = gravPotEnergy + kineticEnergy\n",
    "\n",
    "# print(totalEnergy)"
   ]
  },
  {
   "cell_type": "code",
   "execution_count": null,
   "metadata": {},
   "outputs": [],
   "source": [
    "# vxSq = vx**2\n",
    "# vySq = vy**2\n",
    "# vzSq = vz**2\n",
    "# vSqr = vxSq\n",
    "# print(vSqr)\n",
    "# vxSq, vySq, vzSqr = vxSq.align(vySq, fill_value=0)\n",
    "# print(vxSq+vySq)\n",
    "# vSqr = vxSq.merge(vySq).merge(vzSq)\n",
    "# vxSq, vySq = vxSq.align(vySq)\n",
    "# vSqr = vxSq.merge(vySq)\n",
    "# print(vSqr)\n",
    "\n",
    "# print()\n",
    "\n",
    "# mass = df.loc[:,idx[:,'M']]#.cumsum(axis=1)\n",
    "print(mass)\n",
    "\n",
    "# print(vxSq + vySq)\n",
    "# print(vxSq.iloc[:,-1])\n",
    "# print(vxSq)\n",
    "# print(vxSq.add(vySq, axis=0))\n",
    "\n",
    "# mass = df.loc[:,idx[:,'M']]#.cumsum(axis=1)\n",
    "# print(mass)\n",
    "# mass_sum = mass.iloc[:,-1]\n",
    "# f_sum = fx_sum.iloc[:,-1] + fy_sum.iloc[:,-1] + fz_sum.iloc[:,-1]\n",
    "# v_sum = vx_sum.iloc[:,-1] + vy_sum.iloc[:,-1] + vz_sum.iloc[:,-1]\n",
    "\n",
    "# print(vx_sum.iloc[:,-1])\n",
    "# print(v_sum)\n"
   ]
  }
 ],
 "metadata": {
  "kernelspec": {
   "display_name": "Python 3.10.6 64-bit",
   "language": "python",
   "name": "python3"
  },
  "language_info": {
   "codemirror_mode": {
    "name": "ipython",
    "version": 3
   },
   "file_extension": ".py",
   "mimetype": "text/x-python",
   "name": "python",
   "nbconvert_exporter": "python",
   "pygments_lexer": "ipython3",
   "version": "3.10.6"
  },
  "orig_nbformat": 4,
  "vscode": {
   "interpreter": {
    "hash": "31f2aee4e71d21fbe5cf8b01ff0e069b9275f58929596ceb00d14d90e3e16cd6"
   }
  }
 },
 "nbformat": 4,
 "nbformat_minor": 2
}
